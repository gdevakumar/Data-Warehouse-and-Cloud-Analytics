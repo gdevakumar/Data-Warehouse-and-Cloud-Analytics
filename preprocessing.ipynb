{
 "cells": [
  {
   "cell_type": "code",
   "execution_count": 1,
   "id": "1c946b5f",
   "metadata": {},
   "outputs": [],
   "source": [
    "# Importing required modules\n",
    "\n",
    "import pandas as pd\n",
    "import numpy as np"
   ]
  },
  {
   "cell_type": "code",
   "execution_count": 2,
   "id": "19b7f086",
   "metadata": {},
   "outputs": [],
   "source": [
    "# Loading raw dataset and renaming columns\n",
    "\n",
    "df = pd.read_csv(\"pollution.csv\")\n",
    "df.columns = ['date', 'year', 'month', 'day', 'address', 'state', 'county', 'city', 'o3_mean', 'o3_max_value', 'o3_max_hour', 'o3_aqi', 'co_mean', 'co_max_value', 'co_max_hour', 'co_aqi', 'so2_mean', 'so2_max_value', 'so2_max_hour', 'so2_aqi', 'no2_mean', 'no2_max_value', 'no2_max_hour', 'no2_aqi']"
   ]
  },
  {
   "cell_type": "code",
   "execution_count": 3,
   "id": "c3b1c263",
   "metadata": {},
   "outputs": [],
   "source": [
    "# Creating date and location dimension tables\n",
    "\n",
    "date_df = df[['date', 'year', 'month', 'day']]\n",
    "location_df = df[['address', 'state', 'county', 'city']]"
   ]
  },
  {
   "cell_type": "code",
   "execution_count": 4,
   "id": "e2c9521d",
   "metadata": {},
   "outputs": [],
   "source": [
    "# Dropping duplicates in date table and setting date_id for PK and FK reference\n",
    "\n",
    "date_df = date_df.drop_duplicates()\n",
    "date_df['date_id'] = np.arange(1, len(date_df)+1)\n",
    "dates = {d.date: d.date_id for i, d in date_df.iterrows()}\n",
    "date_df['date'] = pd.to_datetime(df['date'])"
   ]
  },
  {
   "cell_type": "code",
   "execution_count": 5,
   "id": "c6cae492",
   "metadata": {},
   "outputs": [],
   "source": [
    "# Dropping duplicates in location table and setting location_id for PK and FK reference\n",
    "\n",
    "location_df = location_df.drop_duplicates()\n",
    "location_df['location_id'] = np.arange(1, len(location_df)+1)\n",
    "locations = {}\n",
    "for i, d in location_df.iterrows():\n",
    "    tup = tuple([d.address, d.state, d.county, d.city])\n",
    "    locations[tup] = d.location_id"
   ]
  },
  {
   "cell_type": "code",
   "execution_count": 6,
   "id": "454d79c9",
   "metadata": {},
   "outputs": [],
   "source": [
    "# Creating fact table with pollution data\n",
    "\n",
    "fact_cols = ['date', 'address', 'state', 'county', 'city', 'o3_mean', 'o3_max_value', 'o3_max_hour', 'o3_aqi', 'co_mean', 'co_max_value', 'co_max_hour', 'co_aqi', 'so2_mean', 'so2_max_value', 'so2_max_hour', 'so2_aqi', 'no2_mean', 'no2_max_value', 'no2_max_hour', 'no2_aqi']\n",
    "fact_df = df[fact_cols]"
   ]
  },
  {
   "cell_type": "code",
   "execution_count": 7,
   "id": "2a51b825",
   "metadata": {},
   "outputs": [
    {
     "name": "stderr",
     "output_type": "stream",
     "text": [
      "C:\\Users\\deva\\AppData\\Local\\Temp\\ipykernel_18588\\3560010315.py:1: SettingWithCopyWarning: \n",
      "A value is trying to be set on a copy of a slice from a DataFrame.\n",
      "Try using .loc[row_indexer,col_indexer] = value instead\n",
      "\n",
      "See the caveats in the documentation: https://pandas.pydata.org/pandas-docs/stable/user_guide/indexing.html#returning-a-view-versus-a-copy\n",
      "  fact_df['date_id'] = fact_df.date.apply(lambda x: dates[x])\n"
     ]
    }
   ],
   "source": [
    "fact_df['date_id'] = fact_df.date.apply(lambda x: dates[x])"
   ]
  },
  {
   "cell_type": "code",
   "execution_count": 8,
   "id": "01a543ea",
   "metadata": {},
   "outputs": [],
   "source": [
    "a = []\n",
    "for i, d in fact_df.iterrows():\n",
    "    tup = tuple([d.address, d.state, d.county, d.city])\n",
    "    a.append(locations[tup])"
   ]
  },
  {
   "cell_type": "code",
   "execution_count": 9,
   "id": "312a8e59",
   "metadata": {},
   "outputs": [
    {
     "name": "stderr",
     "output_type": "stream",
     "text": [
      "C:\\Users\\deva\\AppData\\Local\\Temp\\ipykernel_18588\\1894522726.py:1: SettingWithCopyWarning: \n",
      "A value is trying to be set on a copy of a slice from a DataFrame.\n",
      "Try using .loc[row_indexer,col_indexer] = value instead\n",
      "\n",
      "See the caveats in the documentation: https://pandas.pydata.org/pandas-docs/stable/user_guide/indexing.html#returning-a-view-versus-a-copy\n",
      "  fact_df['location_id'] = np.array(a)\n"
     ]
    }
   ],
   "source": [
    "fact_df['location_id'] = np.array(a)"
   ]
  },
  {
   "cell_type": "markdown",
   "id": "b66cb80d",
   "metadata": {},
   "source": [
    "Saving the processed data into 3 csv files."
   ]
  },
  {
   "cell_type": "code",
   "execution_count": 15,
   "id": "96cd4422",
   "metadata": {},
   "outputs": [],
   "source": [
    "date_df.to_csv(\"dates_dim.csv\", index=False)\n",
    "location_df.to_csv(\"location_dim.csv\", index=False)\n",
    "fact_df.to_csv(\"pollution_fact.csv\", index=False)"
   ]
  }
 ],
 "metadata": {
  "kernelspec": {
   "display_name": "Python 3 (ipykernel)",
   "language": "python",
   "name": "python3"
  },
  "language_info": {
   "codemirror_mode": {
    "name": "ipython",
    "version": 3
   },
   "file_extension": ".py",
   "mimetype": "text/x-python",
   "name": "python",
   "nbconvert_exporter": "python",
   "pygments_lexer": "ipython3",
   "version": "3.9.13"
  }
 },
 "nbformat": 4,
 "nbformat_minor": 5
}
